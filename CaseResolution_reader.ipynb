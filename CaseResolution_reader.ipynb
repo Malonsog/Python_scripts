{
 "nbformat": 4,
 "nbformat_minor": 0,
 "metadata": {
  "colab": {
   "provenance": []
  },
  "kernelspec": {
   "name": "python3",
   "display_name": "Python 3"
  },
  "language_info": {
   "name": "python"
  }
 },
 "cells": [
  {
   "cell_type": "markdown",
   "source": [
    "# Script para unir los datos de las campañas Inbound y Outbound de WOM en un archivo excel, para que lo trabaje el analista."
   ],
   "metadata": {
    "collapsed": false
   }
  },
  {
   "cell_type": "code",
   "source": [
    "# Montar el drive para trabajar:\n",
    "from google.colab import drive\n",
    "drive.mount('/content/drive')"
   ],
   "metadata": {
    "colab": {
     "base_uri": "https://localhost:8080/"
    },
    "id": "b_Uh7sQ7KtDK",
    "outputId": "383c6b66-9d3a-400e-9627-271a65b2c9e0"
   },
   "execution_count": null,
   "outputs": [
    {
     "output_type": "stream",
     "name": "stdout",
     "text": [
      "Drive already mounted at /content/drive; to attempt to forcibly remount, call drive.mount(\"/content/drive\", force_remount=True).\n"
     ]
    }
   ]
  },
  {
   "cell_type": "code",
   "execution_count": null,
   "metadata": {
    "id": "5b8N6iuRfF2d",
    "colab": {
     "base_uri": "https://localhost:8080/"
    },
    "outputId": "d464c3ed-dff7-4859-bcc2-28053a3bc6ba"
   },
   "outputs": [
    {
     "output_type": "stream",
     "name": "stdout",
     "text": [
      "['CaseResolution_inbound-2023-02-08.csv', 'DatosWOM.xlsx']\n",
      "<bound method NDFrame.head of              id                          usuario       fecha_contacto  \\\n",
      "0      ﻿2395099  gerald.gallegos@servicio.wom.cl  08-02-2023 16:19:44   \n",
      "2      ﻿2395098      angy.garcia@servicio.wom.cl  08-02-2023 16:18:06   \n",
      "3      ﻿2395093      erika.aedo@consultor.wom.cl  08-02-2023 16:17:34   \n",
      "4      ﻿2395094   jennifer.araya@servicio.wom.cl  08-02-2023 16:17:22   \n",
      "5      ﻿2395096   natalia.molina@servicio.wom.cl  08-02-2023 16:17:03   \n",
      "...         ...                              ...                  ...   \n",
      "71835  ﻿2323237   joao.sanmartin@servicio.wom.cl  01-12-2022 08:59:10   \n",
      "71836  ﻿2323243   carla.caceres@consultor.wom.cl  01-12-2022 08:59:09   \n",
      "71837  ﻿2323238   john.aranguren@servicio.wom.cl  01-12-2022 08:59:00   \n",
      "71838  ﻿2323241   carolina.salas@servicio.wom.cl  01-12-2022 08:52:46   \n",
      "71839  ﻿2323239        jose.pena@servicio.wom.cl  01-12-2022 08:42:15   \n",
      "\n",
      "              compañia     fidelizacion_final        rut telefono_que_llama  \\\n",
      "0      Teleperformance  Sin Entrega Descuento  142442094        56973155203   \n",
      "2      Teleperformance  Sin Entrega Descuento  118357310        56947382903   \n",
      "3      Teleperformance  Con Entrega Descuento  129039906        56991447813   \n",
      "4      Teleperformance  Con Entrega Descuento  188676995        56920696130   \n",
      "5      Teleperformance  Sin Entrega Descuento  105079931        56995642205   \n",
      "...                ...                    ...        ...                ...   \n",
      "71835  Teleperformance  Sin Entrega Descuento  206036079        56958034303   \n",
      "71836  Teleperformance  Sin Entrega Descuento  143155358        56976029029   \n",
      "71837  Teleperformance  Sin Entrega Descuento  162489410        56948878774   \n",
      "71838  Teleperformance  Sin Entrega Descuento  184055279        56949530742   \n",
      "71839  Teleperformance  Con Entrega Descuento  104684807        56982194318   \n",
      "\n",
      "                                 motivo_insatisfacción  \\\n",
      "0         Mala derivación - No corresponde a retención   \n",
      "2      No se realiza proceso de retención/Portabilidad   \n",
      "3                       Mejor oferta de la competencia   \n",
      "4                                              Equipos   \n",
      "5                                 No lo usa / necesita   \n",
      "...                                                ...   \n",
      "71835                             No lo usa / necesita   \n",
      "71836                             No lo usa / necesita   \n",
      "71837                              Reducción de Costos   \n",
      "71838                         Problemas de facturación   \n",
      "71839                             Término de Descuento   \n",
      "\n",
      "                       herramienta_de_retención %_descuento cambio_a_prepago  \n",
      "0                                     No Aplica   No Aplica        No Aplica  \n",
      "2                                     No Aplica   No Aplica        No Aplica  \n",
      "3                                     Descuento         30%        No Aplica  \n",
      "4                                     Descuento         30%        No Aplica  \n",
      "5      No retenido - Solicita baja del servicio   No Aplica        No Aplica  \n",
      "...                                         ...         ...              ...  \n",
      "71835  No retenido - Solicita baja del servicio   No Aplica        No Aplica  \n",
      "71836                Cambio a plan retención $0   No Aplica        No Aplica  \n",
      "71837                                 Downgrade   No Aplica        No Aplica  \n",
      "71838                Cambio a plan retención $0   No Aplica        No Aplica  \n",
      "71839                                 Descuento         30%        No Aplica  \n",
      "\n",
      "[60903 rows x 11 columns]>\n"
     ]
    }
   ],
   "source": [
    "# Importar Pandas:\n",
    "import pandas as pd\n",
    "import re\n",
    "import os\n",
    "\n",
    "# Obtener los nombres de los archivos de la carpeta en Drive:\n",
    "nombre_archivos = os.listdir('/content/drive/MyDrive/WOM/')\n",
    "#print(nombre_archivos)\n",
    "\n",
    "# Leer archivos csv de inbound, indicando url en google drive, separador: \";\", seleccionando columnas específicas y compañía=Teleperformance:\n",
    "datosIn = pd.read_csv('/content/drive/MyDrive/WOM/CaseResolution_inbound-2023-02-08.csv', sep=';', usecols=['id', 'usuario', 'fecha_contacto', 'compañia', 'fidelizacion_final', 'rut', 'telefono_que_llama', 'motivo_insatisfacción', 'herramienta_de_retención', '%_descuento', 'cambio_a_prepago']).query('compañia==\"Teleperformance\"')\n",
    "\n",
    "# Leer archivos csv de outbound, indicando url en google drive, separador: \";\", seleccionando columnas específicas y compañía=Teleperformance:\n",
    "datosOut = pd.read_csv('/content/drive/MyDrive/WOM/CaseResolution-2023-01-15.csv', sep=';', usecols=['id', 'campana', 'compania', 'rut', 'nombre', 'telefono', 'fidelizacion_final', 'motivo_de_insatisfaccion', 'herramienta_a_utilizar', '%_descuento_entregado']).query('compania==\"Teleperformance\"')\n",
    "print(datosIn.head)\n",
    "\n",
    "# Guardar datos de Inbound y Outbound en un excel en el Drive:\n",
    "excel = pd.ExcelWriter('/content/drive/MyDrive/WOM/DatosWOM.xlsx')\n",
    "\n",
    "datosIn.to_excel(excel, sheet_name='DatosIN', index=False)\n",
    "datosOut.to_excel(excel, sheet_name='DatosOUT', index=False)\n",
    "excel.save()\n"
   ]
  }
 ]
}
